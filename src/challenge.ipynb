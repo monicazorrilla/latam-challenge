{
 "cells": [
  {
   "cell_type": "markdown",
   "metadata": {},
   "source": [
    "Run Q1 memory!!!"
   ]
  },
  {
   "cell_type": "code",
   "execution_count": 6,
   "metadata": {
    "scrolled": true
   },
   "outputs": [
    {
     "name": "stdout",
     "output_type": "stream",
     "text": [
      "[(datetime.date(2021, 2, 12), 'RanbirS00614606'),\n",
      " (datetime.date(2021, 2, 13), 'MaanDee08215437'),\n",
      " (datetime.date(2021, 2, 17), 'RaaJVinderkaur'),\n",
      " (datetime.date(2021, 2, 16), 'jot__b'),\n",
      " (datetime.date(2021, 2, 14), 'rebelpacifist'),\n",
      " (datetime.date(2021, 2, 18), 'neetuanjle_nitu'),\n",
      " (datetime.date(2021, 2, 15), 'jot__b'),\n",
      " (datetime.date(2021, 2, 20), 'MangalJ23056160'),\n",
      " (datetime.date(2021, 2, 23), 'Surrypuria'),\n",
      " (datetime.date(2021, 2, 19), 'Preetm91')]\n",
      "Filename: C:\\Users\\Monica Zorrilla\\Documents\\AdaInformaticsLab\\latam-challenge\\src\\q1_memory.py\n",
      "\n",
      "Line #    Mem usage    Increment  Occurrences   Line Contents\n",
      "=============================================================\n",
      "    14    136.8 MiB    136.8 MiB           1   @profile\n",
      "    15                                         def q1_memory(file_path: str) -> List[Tuple[datetime.date, str]]:\n",
      "    16    136.8 MiB      0.0 MiB           1       chunk_size = SMALL_CHUNK_SIZE\n",
      "    17    136.8 MiB      0.0 MiB           1       chunks = pd.read_json(file_path, lines=True, chunksize=chunk_size)\n",
      "    18    136.8 MiB      0.0 MiB           1       date_counts = Counter() \n",
      "    19    136.8 MiB      0.0 MiB           1       date_user_counts = defaultdict(Counter)\n",
      "    20                                             \n",
      "    21    276.9 MiB    142.9 MiB          13       for chunk in chunks:\n",
      "    22    276.9 MiB      0.9 MiB          12           chunk['date'] = chunk['date'].dt.date\n",
      "    23                                                 \n",
      "    24    276.9 MiB     -0.0 MiB          12           date_counts.update(chunk['date'].value_counts().to_dict())\n",
      "    25                                                 \n",
      "    26    276.9 MiB   -468.8 MiB      352233           for date, user in zip(chunk['date'], chunk['user'].apply(lambda u: u.get('username'))):\n",
      "    27    276.9 MiB   -156.2 MiB      117407               if user: \n",
      "    28    276.9 MiB   -156.2 MiB      117407                   date_user_counts[date][user] += 1\n",
      "    29                                                     \n",
      "    30    276.9 MiB     -3.8 MiB          12           del chunk\n",
      "    31    276.9 MiB     -0.0 MiB          12           gc.collect()\n",
      "    32                                                 \n",
      "    33    276.9 MiB      0.0 MiB           1       top_10_dates = date_counts.most_common(10)\n",
      "    34    276.9 MiB      0.0 MiB           1       results: List = []\n",
      "    35                                             \n",
      "    36    276.9 MiB      0.0 MiB          11       for date, _ in top_10_dates:\n",
      "    37    276.9 MiB      0.0 MiB          10           top_user = date_user_counts[date].most_common(1)\n",
      "    38    276.9 MiB      0.0 MiB          10           if top_user:\n",
      "    39    276.9 MiB      0.0 MiB          10               user_name, _ = top_user[0]\n",
      "    40    276.9 MiB      0.0 MiB          10               results.append((date, user_name))\n",
      "    41                                         \n",
      "    42    276.9 MiB      0.0 MiB           1       del chunks\n",
      "    43    276.9 MiB      0.0 MiB           1       del date_counts\n",
      "    44    221.9 MiB    -55.0 MiB           1       del date_user_counts\n",
      "    45    221.9 MiB      0.0 MiB           1       gc.collect()\n",
      "    46                                             \n",
      "    47    221.9 MiB      0.0 MiB           1       pprint(results, sort_dicts=False)\n",
      "    48    221.9 MiB      0.0 MiB           1       return results\n",
      "\n",
      "\n",
      "Total execution time: 23.961637 seconds\n"
     ]
    }
   ],
   "source": [
    "%run q1_memory.py -file_path=\"large_files/farmers-protest-tweets-2021-2-4.json\""
   ]
  },
  {
   "cell_type": "markdown",
   "metadata": {},
   "source": [
    "Run Q1 time!!!"
   ]
  },
  {
   "cell_type": "code",
   "execution_count": 8,
   "metadata": {},
   "outputs": [
    {
     "name": "stdout",
     "output_type": "stream",
     "text": [
      "[(datetime.date(2021, 2, 12), 'RanbirS00614606'),\n",
      " (datetime.date(2021, 2, 13), 'MaanDee08215437'),\n",
      " (datetime.date(2021, 2, 17), 'RaaJVinderkaur'),\n",
      " (datetime.date(2021, 2, 16), 'jot__b'),\n",
      " (datetime.date(2021, 2, 14), 'rebelpacifist'),\n",
      " (datetime.date(2021, 2, 18), 'neetuanjle_nitu'),\n",
      " (datetime.date(2021, 2, 15), 'jot__b'),\n",
      " (datetime.date(2021, 2, 20), 'MangalJ23056160'),\n",
      " (datetime.date(2021, 2, 23), 'Surrypuria'),\n",
      " (datetime.date(2021, 2, 19), 'Preetm91')]\n",
      "Filename: C:\\Users\\Monica Zorrilla\\Documents\\AdaInformaticsLab\\latam-challenge\\src\\q1_time.py\n",
      "\n",
      "Line #    Mem usage    Increment  Occurrences   Line Contents\n",
      "=============================================================\n",
      "    30    265.9 MiB    265.9 MiB           1   @profile    \n",
      "    31                                         def q1_time(file_path: str) -> List[Tuple[datetime.date, str]]:\n",
      "    32    265.9 MiB      0.0 MiB           1       chunk_size = MEDIUM_CHUNK_SIZE\n",
      "    33    265.9 MiB      0.0 MiB           1       num_workers = multiprocessing.cpu_count()\n",
      "    34    265.9 MiB      0.0 MiB           1       date_counts = Counter()  \n",
      "    35    265.9 MiB      0.0 MiB           1       date_user_counts = defaultdict(Counter)  \n",
      "    36                                                 \n",
      "    37    265.9 MiB      0.0 MiB           1       with concurrent.futures.ThreadPoolExecutor(max_workers=num_workers) as executor: \n",
      "    38    265.9 MiB      0.0 MiB           1           futures = []\n",
      "    39    265.9 MiB      0.0 MiB           1           chunks = pd.read_json(file_path, lines=True, chunksize=chunk_size)\n",
      "    40                                                 \n",
      "    41    670.1 MiB    126.5 MiB           7           for chunk in chunks:\n",
      "    42    670.1 MiB   -178.5 MiB           6               futures.append(executor.submit(process_chunk, chunk))\n",
      "    43                                             \n",
      "    44    575.1 MiB    -97.2 MiB           7           for future in concurrent.futures.as_completed(futures):\n",
      "    45    574.8 MiB      0.0 MiB           6               local_date_counts, local_date_user_counts = future.result()\n",
      "    46    574.8 MiB      0.0 MiB           6               date_counts.update(local_date_counts)\n",
      "    47    575.1 MiB      0.0 MiB          24               for date, user_counts in local_date_user_counts.items():\n",
      "    48    575.1 MiB      2.2 MiB          18                   date_user_counts[date].update(user_counts)\n",
      "    49                                             \n",
      "    50    575.1 MiB      0.0 MiB           1       top_10_dates = date_counts.most_common(10)\n",
      "    51    575.1 MiB      0.0 MiB           1       results: List = []\n",
      "    52                                             \n",
      "    53    575.1 MiB      0.0 MiB          11       for date, _ in top_10_dates:\n",
      "    54    575.1 MiB      0.0 MiB          10           top_user = date_user_counts[date].most_common(1)\n",
      "    55    575.1 MiB      0.0 MiB          10           if top_user:\n",
      "    56    575.1 MiB      0.0 MiB          10               user_name, _ = top_user[0]\n",
      "    57    575.1 MiB      0.0 MiB          10               results.append((date, user_name))\n",
      "    58                                         \n",
      "    59    575.1 MiB      0.0 MiB           1       del chunks\n",
      "    60    575.1 MiB      0.0 MiB           1       del date_counts\n",
      "    61    575.1 MiB      0.0 MiB           1       del local_date_counts\n",
      "    62    575.1 MiB      0.0 MiB           1       del date_user_counts\n",
      "    63    575.1 MiB      0.0 MiB           1       del local_date_user_counts\n",
      "    64    575.1 MiB      0.0 MiB           1       gc.collect()  \n",
      "    65                                             \n",
      "    66    575.1 MiB      0.0 MiB           1       pprint(results, sort_dicts=False)\n",
      "    67    575.1 MiB      0.0 MiB           1       return results\n",
      "\n",
      "\n",
      "Total execution time: 10.092079 seconds\n"
     ]
    }
   ],
   "source": [
    "%run q1_time.py -file_path=\"large_files/farmers-protest-tweets-2021-2-4.json\""
   ]
  },
  {
   "cell_type": "code",
   "execution_count": null,
   "metadata": {},
   "outputs": [],
   "source": []
  }
 ],
 "metadata": {
  "kernelspec": {
   "display_name": "Python 3 (ipykernel)",
   "language": "python",
   "name": "python3"
  },
  "language_info": {
   "codemirror_mode": {
    "name": "ipython",
    "version": 3
   },
   "file_extension": ".py",
   "mimetype": "text/x-python",
   "name": "python",
   "nbconvert_exporter": "python",
   "pygments_lexer": "ipython3",
   "version": "3.9.8"
  }
 },
 "nbformat": 4,
 "nbformat_minor": 4
}
